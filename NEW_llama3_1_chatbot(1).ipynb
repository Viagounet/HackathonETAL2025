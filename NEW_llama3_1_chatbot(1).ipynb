{
 "cells": [
  {
   "cell_type": "code",
   "execution_count": 8,
   "id": "d4bedc89-cbb6-40b8-92b0-51f85a9566f7",
   "metadata": {},
   "outputs": [
    {
     "name": "stdout",
     "output_type": "stream",
     "text": [
      "Defaulting to user installation because normal site-packages is not writeable\n",
      "Requirement already satisfied: ipywidget.chatbot in /home/etal30/.local/lib/python3.11/site-packages (0.1.1)\n",
      "Requirement already satisfied: ipywidgets>=8.1.7 in /home/etal30/.local/lib/python3.11/site-packages (from ipywidget.chatbot) (8.1.7)\n",
      "Requirement already satisfied: comm>=0.1.3 in /usr/local/anaconda3/lib/python3.11/site-packages (from ipywidgets>=8.1.7->ipywidget.chatbot) (0.2.1)\n",
      "Requirement already satisfied: ipython>=6.1.0 in /usr/local/anaconda3/lib/python3.11/site-packages (from ipywidgets>=8.1.7->ipywidget.chatbot) (8.20.0)\n",
      "Requirement already satisfied: traitlets>=4.3.1 in /usr/local/anaconda3/lib/python3.11/site-packages (from ipywidgets>=8.1.7->ipywidget.chatbot) (5.7.1)\n",
      "Requirement already satisfied: widgetsnbextension~=4.0.14 in /home/etal30/.local/lib/python3.11/site-packages (from ipywidgets>=8.1.7->ipywidget.chatbot) (4.0.14)\n",
      "Requirement already satisfied: jupyterlab_widgets~=3.0.15 in /home/etal30/.local/lib/python3.11/site-packages (from ipywidgets>=8.1.7->ipywidget.chatbot) (3.0.15)\n",
      "Requirement already satisfied: decorator in /usr/local/anaconda3/lib/python3.11/site-packages (from ipython>=6.1.0->ipywidgets>=8.1.7->ipywidget.chatbot) (5.1.1)\n",
      "Requirement already satisfied: jedi>=0.16 in /usr/local/anaconda3/lib/python3.11/site-packages (from ipython>=6.1.0->ipywidgets>=8.1.7->ipywidget.chatbot) (0.18.1)\n",
      "Requirement already satisfied: matplotlib-inline in /usr/local/anaconda3/lib/python3.11/site-packages (from ipython>=6.1.0->ipywidgets>=8.1.7->ipywidget.chatbot) (0.1.6)\n",
      "Requirement already satisfied: prompt-toolkit<3.1.0,>=3.0.41 in /usr/local/anaconda3/lib/python3.11/site-packages (from ipython>=6.1.0->ipywidgets>=8.1.7->ipywidget.chatbot) (3.0.43)\n",
      "Requirement already satisfied: pygments>=2.4.0 in /usr/local/anaconda3/lib/python3.11/site-packages (from ipython>=6.1.0->ipywidgets>=8.1.7->ipywidget.chatbot) (2.15.1)\n",
      "Requirement already satisfied: stack-data in /usr/local/anaconda3/lib/python3.11/site-packages (from ipython>=6.1.0->ipywidgets>=8.1.7->ipywidget.chatbot) (0.2.0)\n",
      "Requirement already satisfied: pexpect>4.3 in /usr/local/anaconda3/lib/python3.11/site-packages (from ipython>=6.1.0->ipywidgets>=8.1.7->ipywidget.chatbot) (4.8.0)\n",
      "Requirement already satisfied: parso<0.9.0,>=0.8.0 in /usr/local/anaconda3/lib/python3.11/site-packages (from jedi>=0.16->ipython>=6.1.0->ipywidgets>=8.1.7->ipywidget.chatbot) (0.8.3)\n",
      "Requirement already satisfied: ptyprocess>=0.5 in /usr/local/anaconda3/lib/python3.11/site-packages (from pexpect>4.3->ipython>=6.1.0->ipywidgets>=8.1.7->ipywidget.chatbot) (0.7.0)\n",
      "Requirement already satisfied: wcwidth in /usr/local/anaconda3/lib/python3.11/site-packages (from prompt-toolkit<3.1.0,>=3.0.41->ipython>=6.1.0->ipywidgets>=8.1.7->ipywidget.chatbot) (0.2.5)\n",
      "Requirement already satisfied: executing in /usr/local/anaconda3/lib/python3.11/site-packages (from stack-data->ipython>=6.1.0->ipywidgets>=8.1.7->ipywidget.chatbot) (0.8.3)\n",
      "Requirement already satisfied: asttokens in /usr/local/anaconda3/lib/python3.11/site-packages (from stack-data->ipython>=6.1.0->ipywidgets>=8.1.7->ipywidget.chatbot) (2.0.5)\n",
      "Requirement already satisfied: pure-eval in /usr/local/anaconda3/lib/python3.11/site-packages (from stack-data->ipython>=6.1.0->ipywidgets>=8.1.7->ipywidget.chatbot) (0.2.2)\n",
      "Requirement already satisfied: six in /usr/local/anaconda3/lib/python3.11/site-packages (from asttokens->stack-data->ipython>=6.1.0->ipywidgets>=8.1.7->ipywidget.chatbot) (1.16.0)\n",
      "Note: you may need to restart the kernel to use updated packages.\n"
     ]
    }
   ],
   "source": [
    "pip install ipywidget.chatbot"
   ]
  },
  {
   "cell_type": "code",
   "execution_count": 12,
   "id": "ffc921a8-aed7-4384-91e1-8dec4602bea8",
   "metadata": {
    "scrolled": true
   },
   "outputs": [
    {
     "name": "stdout",
     "output_type": "stream",
     "text": [
      "Defaulting to user installation because normal site-packages is not writeable\n",
      "Requirement already satisfied: ipywidgets in /home/etal30/.local/lib/python3.11/site-packages (8.1.7)\n",
      "Requirement already satisfied: requests in /usr/local/anaconda3/lib/python3.11/site-packages (2.32.2)\n",
      "Requirement already satisfied: comm>=0.1.3 in /usr/local/anaconda3/lib/python3.11/site-packages (from ipywidgets) (0.2.1)\n",
      "Requirement already satisfied: ipython>=6.1.0 in /usr/local/anaconda3/lib/python3.11/site-packages (from ipywidgets) (8.20.0)\n",
      "Requirement already satisfied: traitlets>=4.3.1 in /usr/local/anaconda3/lib/python3.11/site-packages (from ipywidgets) (5.7.1)\n",
      "Requirement already satisfied: widgetsnbextension~=4.0.14 in /home/etal30/.local/lib/python3.11/site-packages (from ipywidgets) (4.0.14)\n",
      "Requirement already satisfied: jupyterlab_widgets~=3.0.15 in /home/etal30/.local/lib/python3.11/site-packages (from ipywidgets) (3.0.15)\n",
      "Requirement already satisfied: charset-normalizer<4,>=2 in /usr/local/anaconda3/lib/python3.11/site-packages (from requests) (2.0.4)\n",
      "Requirement already satisfied: idna<4,>=2.5 in /usr/local/anaconda3/lib/python3.11/site-packages (from requests) (3.7)\n",
      "Requirement already satisfied: urllib3<3,>=1.21.1 in /usr/local/anaconda3/lib/python3.11/site-packages (from requests) (2.2.1)\n",
      "Requirement already satisfied: certifi>=2017.4.17 in /usr/local/anaconda3/lib/python3.11/site-packages (from requests) (2025.1.31)\n",
      "Requirement already satisfied: decorator in /usr/local/anaconda3/lib/python3.11/site-packages (from ipython>=6.1.0->ipywidgets) (5.1.1)\n",
      "Requirement already satisfied: jedi>=0.16 in /usr/local/anaconda3/lib/python3.11/site-packages (from ipython>=6.1.0->ipywidgets) (0.18.1)\n",
      "Requirement already satisfied: matplotlib-inline in /usr/local/anaconda3/lib/python3.11/site-packages (from ipython>=6.1.0->ipywidgets) (0.1.6)\n",
      "Requirement already satisfied: prompt-toolkit<3.1.0,>=3.0.41 in /usr/local/anaconda3/lib/python3.11/site-packages (from ipython>=6.1.0->ipywidgets) (3.0.43)\n",
      "Requirement already satisfied: pygments>=2.4.0 in /usr/local/anaconda3/lib/python3.11/site-packages (from ipython>=6.1.0->ipywidgets) (2.15.1)\n",
      "Requirement already satisfied: stack-data in /usr/local/anaconda3/lib/python3.11/site-packages (from ipython>=6.1.0->ipywidgets) (0.2.0)\n",
      "Requirement already satisfied: pexpect>4.3 in /usr/local/anaconda3/lib/python3.11/site-packages (from ipython>=6.1.0->ipywidgets) (4.8.0)\n",
      "Requirement already satisfied: parso<0.9.0,>=0.8.0 in /usr/local/anaconda3/lib/python3.11/site-packages (from jedi>=0.16->ipython>=6.1.0->ipywidgets) (0.8.3)\n",
      "Requirement already satisfied: ptyprocess>=0.5 in /usr/local/anaconda3/lib/python3.11/site-packages (from pexpect>4.3->ipython>=6.1.0->ipywidgets) (0.7.0)\n",
      "Requirement already satisfied: wcwidth in /usr/local/anaconda3/lib/python3.11/site-packages (from prompt-toolkit<3.1.0,>=3.0.41->ipython>=6.1.0->ipywidgets) (0.2.5)\n",
      "Requirement already satisfied: executing in /usr/local/anaconda3/lib/python3.11/site-packages (from stack-data->ipython>=6.1.0->ipywidgets) (0.8.3)\n",
      "Requirement already satisfied: asttokens in /usr/local/anaconda3/lib/python3.11/site-packages (from stack-data->ipython>=6.1.0->ipywidgets) (2.0.5)\n",
      "Requirement already satisfied: pure-eval in /usr/local/anaconda3/lib/python3.11/site-packages (from stack-data->ipython>=6.1.0->ipywidgets) (0.2.2)\n",
      "Requirement already satisfied: six in /usr/local/anaconda3/lib/python3.11/site-packages (from asttokens->stack-data->ipython>=6.1.0->ipywidgets) (1.16.0)\n",
      "Note: you may need to restart the kernel to use updated packages.\n"
     ]
    }
   ],
   "source": [
    "\n",
    "pip install ipywidgets requests\n"
   ]
  },
  {
   "cell_type": "code",
   "execution_count": 11,
   "id": "65ed4b7f-bf40-4673-8506-6cd44417ad03",
   "metadata": {},
   "outputs": [
    {
     "data": {
      "application/vnd.jupyter.widget-view+json": {
       "model_id": "29afedcff1d845d6a9bcd54f11ec6a85",
       "version_major": 2,
       "version_minor": 0
      },
      "text/plain": [
       "Output(layout=Layout(border_bottom='1px solid gray', border_left='1px solid gray', border_right='1px solid gra…"
      ]
     },
     "metadata": {},
     "output_type": "display_data"
    },
    {
     "data": {
      "application/vnd.jupyter.widget-view+json": {
       "model_id": "f2ddd234510d4a119a7b4825d110991f",
       "version_major": 2,
       "version_minor": 0
      },
      "text/plain": [
       "Textarea(value='', layout=Layout(height='70px', width='100%'), placeholder='Type your message here...')"
      ]
     },
     "metadata": {},
     "output_type": "display_data"
    },
    {
     "data": {
      "application/vnd.jupyter.widget-view+json": {
       "model_id": "4bc646022392431d8a68a1492494cf5b",
       "version_major": 2,
       "version_minor": 0
      },
      "text/plain": [
       "HBox(children=(Button(button_style='primary', description='Send', style=ButtonStyle()), Button(button_style='w…"
      ]
     },
     "metadata": {},
     "output_type": "display_data"
    }
   ],
   "source": [
    "import json, os, requests, ipywidgets as widgets\n",
    "from IPython.display import display\n",
    "\n",
    "# --- Configure Ollama ---\n",
    "BASE_URL = \"http://localhost:11434\"       # Ollama default\n",
    "MODEL    = \"llama3.1:latest\"              # or your exact tag, e.g. \"llama3.1:8b-instruct\"\n",
    "\n",
    "# --- Context controls ---\n",
    "MAX_TURNS = 30        # keep the last N user+assistant exchanges (plus system)\n",
    "SESSION_FILE = \"ollama_session.json\"  # persist across notebook restarts\n",
    "\n",
    "# --- Load / init history ---\n",
    "def load_history():\n",
    "    if os.path.exists(SESSION_FILE):\n",
    "        try:\n",
    "            return json.load(open(SESSION_FILE, \"r\"))\n",
    "        except Exception:\n",
    "            pass\n",
    "    # fresh start with a system message (tweak tone/persona as you like)\n",
    "    return [{\"role\":\"system\",\"content\":\"You are a concise, helpful assistant.\"}]\n",
    "\n",
    "def save_history(history):\n",
    "    try:\n",
    "        json.dump(history, open(SESSION_FILE, \"w\"))\n",
    "    except Exception:\n",
    "        pass\n",
    "\n",
    "def trim_history(history, max_turns=MAX_TURNS):\n",
    "    \"\"\"\n",
    "    Keep system + last N (user,assistant) turns.\n",
    "    \"\"\"\n",
    "    sys = [m for m in history if m[\"role\"]==\"system\"][:1]\n",
    "    rest = [m for m in history if m[\"role\"]!=\"system\"]\n",
    "    # each turn is 2 messages (user, assistant); keep last 2*MAX_TURNS\n",
    "    keep = rest[-2*max_turns:]\n",
    "    return sys + keep\n",
    "\n",
    "history = load_history()\n",
    "\n",
    "# --- UI ---\n",
    "chat_log   = widgets.Output(layout={'border':'1px solid gray','height':'300px','overflow_y':'auto'})\n",
    "user_input = widgets.Textarea(placeholder=\"Type your message here...\", layout={'width':'100%','height':'70px'})\n",
    "send_btn   = widgets.Button(description=\"Send\", button_style='primary')\n",
    "reset_btn  = widgets.Button(description=\"Reset memory\", button_style='warning')\n",
    "\n",
    "def send_message(_):\n",
    "    global history\n",
    "    user_text = user_input.value.strip()\n",
    "    if not user_text:\n",
    "        return\n",
    "    user_input.value = \"\"\n",
    "\n",
    "    # append user msg\n",
    "    history.append({\"role\":\"user\",\"content\":user_text})\n",
    "\n",
    "    # trim before sending (protect context window)\n",
    "    hist_to_send = trim_history(history)\n",
    "\n",
    "    with chat_log:\n",
    "        print(f\"You: {user_text}\")\n",
    "\n",
    "    try:\n",
    "        # Ollama chat API: https://github.com/ollama/ollama/blob/main/docs/api.md#chat\n",
    "        r = requests.post(\n",
    "            f\"{BASE_URL}/api/chat\",\n",
    "            json={\n",
    "                \"model\": MODEL,\n",
    "                \"messages\": hist_to_send,\n",
    "                \"stream\": False\n",
    "            },\n",
    "            timeout=300\n",
    "        )\n",
    "        r.raise_for_status()\n",
    "        j = r.json()\n",
    "        reply = j.get(\"message\",{}).get(\"content\") or j.get(\"response\") or \"(no reply)\"\n",
    "    except Exception as e:\n",
    "        reply = f\"Error: {e}\"\n",
    "\n",
    "    # append assistant msg & save/persist\n",
    "    history.append({\"role\":\"assistant\",\"content\":reply})\n",
    "    history = trim_history(history)\n",
    "    save_history(history)\n",
    "\n",
    "    with chat_log:\n",
    "        print(f\"FouFlou:{reply}\\n\")\n",
    "\n",
    "def reset_memory(_):\n",
    "    global history\n",
    "    history = [{\"role\":\"system\",\"content\":\"You are a concise, helpful assistant.\"}]\n",
    "    save_history(history)\n",
    "    with chat_log:\n",
    "        print(\"— memory cleared —\\n\")\n",
    "\n",
    "send_btn.on_click(send_message)\n",
    "reset_btn.on_click(reset_memory)\n",
    "display(chat_log, user_input, widgets.HBox([send_btn, reset_btn]))\n"
   ]
  },
  {
   "cell_type": "code",
   "execution_count": null,
   "id": "76326553-d03e-4aac-ac31-771788905e50",
   "metadata": {},
   "outputs": [],
   "source": []
  }
 ],
 "metadata": {
  "kernelspec": {
   "display_name": "Python 3 (ipykernel)",
   "language": "python",
   "name": "python3"
  },
  "language_info": {
   "codemirror_mode": {
    "name": "ipython",
    "version": 3
   },
   "file_extension": ".py",
   "mimetype": "text/x-python",
   "name": "python",
   "nbconvert_exporter": "python",
   "pygments_lexer": "ipython3",
   "version": "3.11.5"
  }
 },
 "nbformat": 4,
 "nbformat_minor": 5
}
