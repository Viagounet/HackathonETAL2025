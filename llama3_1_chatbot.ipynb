{
 "cells": [
  {
   "cell_type": "code",
   "execution_count": 2,
   "id": "1a84bd78-097a-4974-b9b2-ea9be768a4c3",
   "metadata": {},
   "outputs": [
    {
     "name": "stderr",
     "output_type": "stream",
     "text": [
      "Exception in thread Thread-6 (start_server):\n",
      "Traceback (most recent call last):\n",
      "  File \"/usr/local/anaconda3/lib/python3.11/threading.py\", line 1038, in _bootstrap_inner\n",
      "    self.run()\n",
      "  File \"/usr/local/anaconda3/lib/python3.11/threading.py\", line 975, in run\n",
      "    self._target(*self._args, **self._kwargs)\n",
      "  File \"/tmp/ipykernel_1506284/844326657.py\", line 7, in start_server\n",
      "  File \"/usr/local/anaconda3/lib/python3.11/socketserver.py\", line 456, in __init__\n",
      "    self.server_bind()\n",
      "  File \"/usr/local/anaconda3/lib/python3.11/socketserver.py\", line 472, in server_bind\n",
      "    self.socket.bind(self.server_address)\n",
      "OSError: [Errno 98] Address already in use\n"
     ]
    }
   ],
   "source": [
    "import http.server, socketserver, threading\n",
    "\n",
    "PORT = 8088\n",
    "\n",
    "def start_server():\n",
    "    Handler = http.server.SimpleHTTPRequestHandler\n",
    "    with socketserver.TCPServer((\"\", PORT), Handler) as httpd:\n",
    "        print(f\"Serving at http://localhost:{PORT}/chat.html\")\n",
    "        httpd.serve_forever()\n",
    "\n",
    "thread = threading.Thread(target=start_server, daemon=True)\n",
    "thread.start()\n"
   ]
  },
  {
   "cell_type": "code",
   "execution_count": 8,
   "id": "d4bedc89-cbb6-40b8-92b0-51f85a9566f7",
   "metadata": {},
   "outputs": [
    {
     "name": "stdout",
     "output_type": "stream",
     "text": [
      "Defaulting to user installation because normal site-packages is not writeable\n",
      "Requirement already satisfied: ipywidget.chatbot in /home/etal30/.local/lib/python3.11/site-packages (0.1.1)\n",
      "Requirement already satisfied: ipywidgets>=8.1.7 in /home/etal30/.local/lib/python3.11/site-packages (from ipywidget.chatbot) (8.1.7)\n",
      "Requirement already satisfied: comm>=0.1.3 in /usr/local/anaconda3/lib/python3.11/site-packages (from ipywidgets>=8.1.7->ipywidget.chatbot) (0.2.1)\n",
      "Requirement already satisfied: ipython>=6.1.0 in /usr/local/anaconda3/lib/python3.11/site-packages (from ipywidgets>=8.1.7->ipywidget.chatbot) (8.20.0)\n",
      "Requirement already satisfied: traitlets>=4.3.1 in /usr/local/anaconda3/lib/python3.11/site-packages (from ipywidgets>=8.1.7->ipywidget.chatbot) (5.7.1)\n",
      "Requirement already satisfied: widgetsnbextension~=4.0.14 in /home/etal30/.local/lib/python3.11/site-packages (from ipywidgets>=8.1.7->ipywidget.chatbot) (4.0.14)\n",
      "Requirement already satisfied: jupyterlab_widgets~=3.0.15 in /home/etal30/.local/lib/python3.11/site-packages (from ipywidgets>=8.1.7->ipywidget.chatbot) (3.0.15)\n",
      "Requirement already satisfied: decorator in /usr/local/anaconda3/lib/python3.11/site-packages (from ipython>=6.1.0->ipywidgets>=8.1.7->ipywidget.chatbot) (5.1.1)\n",
      "Requirement already satisfied: jedi>=0.16 in /usr/local/anaconda3/lib/python3.11/site-packages (from ipython>=6.1.0->ipywidgets>=8.1.7->ipywidget.chatbot) (0.18.1)\n",
      "Requirement already satisfied: matplotlib-inline in /usr/local/anaconda3/lib/python3.11/site-packages (from ipython>=6.1.0->ipywidgets>=8.1.7->ipywidget.chatbot) (0.1.6)\n",
      "Requirement already satisfied: prompt-toolkit<3.1.0,>=3.0.41 in /usr/local/anaconda3/lib/python3.11/site-packages (from ipython>=6.1.0->ipywidgets>=8.1.7->ipywidget.chatbot) (3.0.43)\n",
      "Requirement already satisfied: pygments>=2.4.0 in /usr/local/anaconda3/lib/python3.11/site-packages (from ipython>=6.1.0->ipywidgets>=8.1.7->ipywidget.chatbot) (2.15.1)\n",
      "Requirement already satisfied: stack-data in /usr/local/anaconda3/lib/python3.11/site-packages (from ipython>=6.1.0->ipywidgets>=8.1.7->ipywidget.chatbot) (0.2.0)\n",
      "Requirement already satisfied: pexpect>4.3 in /usr/local/anaconda3/lib/python3.11/site-packages (from ipython>=6.1.0->ipywidgets>=8.1.7->ipywidget.chatbot) (4.8.0)\n",
      "Requirement already satisfied: parso<0.9.0,>=0.8.0 in /usr/local/anaconda3/lib/python3.11/site-packages (from jedi>=0.16->ipython>=6.1.0->ipywidgets>=8.1.7->ipywidget.chatbot) (0.8.3)\n",
      "Requirement already satisfied: ptyprocess>=0.5 in /usr/local/anaconda3/lib/python3.11/site-packages (from pexpect>4.3->ipython>=6.1.0->ipywidgets>=8.1.7->ipywidget.chatbot) (0.7.0)\n",
      "Requirement already satisfied: wcwidth in /usr/local/anaconda3/lib/python3.11/site-packages (from prompt-toolkit<3.1.0,>=3.0.41->ipython>=6.1.0->ipywidgets>=8.1.7->ipywidget.chatbot) (0.2.5)\n",
      "Requirement already satisfied: executing in /usr/local/anaconda3/lib/python3.11/site-packages (from stack-data->ipython>=6.1.0->ipywidgets>=8.1.7->ipywidget.chatbot) (0.8.3)\n",
      "Requirement already satisfied: asttokens in /usr/local/anaconda3/lib/python3.11/site-packages (from stack-data->ipython>=6.1.0->ipywidgets>=8.1.7->ipywidget.chatbot) (2.0.5)\n",
      "Requirement already satisfied: pure-eval in /usr/local/anaconda3/lib/python3.11/site-packages (from stack-data->ipython>=6.1.0->ipywidgets>=8.1.7->ipywidget.chatbot) (0.2.2)\n",
      "Requirement already satisfied: six in /usr/local/anaconda3/lib/python3.11/site-packages (from asttokens->stack-data->ipython>=6.1.0->ipywidgets>=8.1.7->ipywidget.chatbot) (1.16.0)\n",
      "Note: you may need to restart the kernel to use updated packages.\n"
     ]
    }
   ],
   "source": [
    "pip install ipywidget.chatbot"
   ]
  },
  {
   "cell_type": "code",
   "execution_count": 9,
   "id": "e123bb9d-4a1f-4c0d-a368-a471c0c11f34",
   "metadata": {},
   "outputs": [
    {
     "ename": "ModuleNotFoundError",
     "evalue": "No module named 'ipywidget_chatbot'",
     "output_type": "error",
     "traceback": [
      "\u001b[0;31m---------------------------------------------------------------------------\u001b[0m",
      "\u001b[0;31mModuleNotFoundError\u001b[0m                       Traceback (most recent call last)",
      "Cell \u001b[0;32mIn[9], line 1\u001b[0m\n\u001b[0;32m----> 1\u001b[0m \u001b[38;5;28;01mfrom\u001b[39;00m \u001b[38;5;21;01mipywidget_chatbot\u001b[39;00m \u001b[38;5;28;01mimport\u001b[39;00m chatbot_ui\n",
      "\u001b[0;31mModuleNotFoundError\u001b[0m: No module named 'ipywidget_chatbot'"
     ]
    }
   ],
   "source": [
    "from ipywidget_chatbot import chatbot_ui"
   ]
  },
  {
   "cell_type": "code",
   "execution_count": 10,
   "id": "b76ac1e5-f395-4bc1-bcc3-bbdc09e162d6",
   "metadata": {},
   "outputs": [
    {
     "ename": "ModuleNotFoundError",
     "evalue": "No module named 'ipywidget_chatbot'",
     "output_type": "error",
     "traceback": [
      "\u001b[0;31m---------------------------------------------------------------------------\u001b[0m",
      "\u001b[0;31mModuleNotFoundError\u001b[0m                       Traceback (most recent call last)",
      "Cell \u001b[0;32mIn[10], line 1\u001b[0m\n\u001b[0;32m----> 1\u001b[0m \u001b[38;5;28;01mimport\u001b[39;00m \u001b[38;5;21;01mipywidget_chatbot\u001b[39;00m\n",
      "\u001b[0;31mModuleNotFoundError\u001b[0m: No module named 'ipywidget_chatbot'"
     ]
    }
   ],
   "source": [
    "import ipywidget_chatbot\n"
   ]
  },
  {
   "cell_type": "code",
   "execution_count": 11,
   "id": "8953d93c-2d0c-4393-9af8-5f860b4c9882",
   "metadata": {},
   "outputs": [
    {
     "ename": "SyntaxError",
     "evalue": "invalid syntax (3185994405.py, line 1)",
     "output_type": "error",
     "traceback": [
      "\u001b[0;36m  Cell \u001b[0;32mIn[11], line 1\u001b[0;36m\u001b[0m\n\u001b[0;31m    python3 ipywidget_chatbot\u001b[0m\n\u001b[0m            ^\u001b[0m\n\u001b[0;31mSyntaxError\u001b[0m\u001b[0;31m:\u001b[0m invalid syntax\n"
     ]
    }
   ],
   "source": [
    "python3 ipywidget_chatbot\n"
   ]
  },
  {
   "cell_type": "code",
   "execution_count": 12,
   "id": "ffc921a8-aed7-4384-91e1-8dec4602bea8",
   "metadata": {
    "scrolled": true
   },
   "outputs": [
    {
     "name": "stdout",
     "output_type": "stream",
     "text": [
      "Defaulting to user installation because normal site-packages is not writeable\n",
      "Requirement already satisfied: ipywidgets in /home/etal30/.local/lib/python3.11/site-packages (8.1.7)\n",
      "Requirement already satisfied: requests in /usr/local/anaconda3/lib/python3.11/site-packages (2.32.2)\n",
      "Requirement already satisfied: comm>=0.1.3 in /usr/local/anaconda3/lib/python3.11/site-packages (from ipywidgets) (0.2.1)\n",
      "Requirement already satisfied: ipython>=6.1.0 in /usr/local/anaconda3/lib/python3.11/site-packages (from ipywidgets) (8.20.0)\n",
      "Requirement already satisfied: traitlets>=4.3.1 in /usr/local/anaconda3/lib/python3.11/site-packages (from ipywidgets) (5.7.1)\n",
      "Requirement already satisfied: widgetsnbextension~=4.0.14 in /home/etal30/.local/lib/python3.11/site-packages (from ipywidgets) (4.0.14)\n",
      "Requirement already satisfied: jupyterlab_widgets~=3.0.15 in /home/etal30/.local/lib/python3.11/site-packages (from ipywidgets) (3.0.15)\n",
      "Requirement already satisfied: charset-normalizer<4,>=2 in /usr/local/anaconda3/lib/python3.11/site-packages (from requests) (2.0.4)\n",
      "Requirement already satisfied: idna<4,>=2.5 in /usr/local/anaconda3/lib/python3.11/site-packages (from requests) (3.7)\n",
      "Requirement already satisfied: urllib3<3,>=1.21.1 in /usr/local/anaconda3/lib/python3.11/site-packages (from requests) (2.2.1)\n",
      "Requirement already satisfied: certifi>=2017.4.17 in /usr/local/anaconda3/lib/python3.11/site-packages (from requests) (2025.1.31)\n",
      "Requirement already satisfied: decorator in /usr/local/anaconda3/lib/python3.11/site-packages (from ipython>=6.1.0->ipywidgets) (5.1.1)\n",
      "Requirement already satisfied: jedi>=0.16 in /usr/local/anaconda3/lib/python3.11/site-packages (from ipython>=6.1.0->ipywidgets) (0.18.1)\n",
      "Requirement already satisfied: matplotlib-inline in /usr/local/anaconda3/lib/python3.11/site-packages (from ipython>=6.1.0->ipywidgets) (0.1.6)\n",
      "Requirement already satisfied: prompt-toolkit<3.1.0,>=3.0.41 in /usr/local/anaconda3/lib/python3.11/site-packages (from ipython>=6.1.0->ipywidgets) (3.0.43)\n",
      "Requirement already satisfied: pygments>=2.4.0 in /usr/local/anaconda3/lib/python3.11/site-packages (from ipython>=6.1.0->ipywidgets) (2.15.1)\n",
      "Requirement already satisfied: stack-data in /usr/local/anaconda3/lib/python3.11/site-packages (from ipython>=6.1.0->ipywidgets) (0.2.0)\n",
      "Requirement already satisfied: pexpect>4.3 in /usr/local/anaconda3/lib/python3.11/site-packages (from ipython>=6.1.0->ipywidgets) (4.8.0)\n",
      "Requirement already satisfied: parso<0.9.0,>=0.8.0 in /usr/local/anaconda3/lib/python3.11/site-packages (from jedi>=0.16->ipython>=6.1.0->ipywidgets) (0.8.3)\n",
      "Requirement already satisfied: ptyprocess>=0.5 in /usr/local/anaconda3/lib/python3.11/site-packages (from pexpect>4.3->ipython>=6.1.0->ipywidgets) (0.7.0)\n",
      "Requirement already satisfied: wcwidth in /usr/local/anaconda3/lib/python3.11/site-packages (from prompt-toolkit<3.1.0,>=3.0.41->ipython>=6.1.0->ipywidgets) (0.2.5)\n",
      "Requirement already satisfied: executing in /usr/local/anaconda3/lib/python3.11/site-packages (from stack-data->ipython>=6.1.0->ipywidgets) (0.8.3)\n",
      "Requirement already satisfied: asttokens in /usr/local/anaconda3/lib/python3.11/site-packages (from stack-data->ipython>=6.1.0->ipywidgets) (2.0.5)\n",
      "Requirement already satisfied: pure-eval in /usr/local/anaconda3/lib/python3.11/site-packages (from stack-data->ipython>=6.1.0->ipywidgets) (0.2.2)\n",
      "Requirement already satisfied: six in /usr/local/anaconda3/lib/python3.11/site-packages (from asttokens->stack-data->ipython>=6.1.0->ipywidgets) (1.16.0)\n",
      "Note: you may need to restart the kernel to use updated packages.\n"
     ]
    }
   ],
   "source": [
    "\n",
    "pip install ipywidgets requests\n"
   ]
  },
  {
   "cell_type": "code",
   "execution_count": 15,
   "id": "1e29da29-01de-4fef-b104-b3237e2a6cd2",
   "metadata": {},
   "outputs": [
    {
     "ename": "SyntaxError",
     "evalue": "invalid syntax (2407343823.py, line 1)",
     "output_type": "error",
     "traceback": [
      "\u001b[0;36m  Cell \u001b[0;32mIn[15], line 1\u001b[0;36m\u001b[0m\n\u001b[0;31m    jupyter nb extension enable --py widgetsnbextension\u001b[0m\n\u001b[0m            ^\u001b[0m\n\u001b[0;31mSyntaxError\u001b[0m\u001b[0;31m:\u001b[0m invalid syntax\n"
     ]
    }
   ],
   "source": [
    "jupyter nb extension enable --py widgetsnbextension\n"
   ]
  },
  {
   "cell_type": "code",
   "execution_count": 16,
   "id": "4079a754-9a75-4f74-9b0e-302cd481808a",
   "metadata": {},
   "outputs": [
    {
     "ename": "SyntaxError",
     "evalue": "invalid syntax (4097282360.py, line 1)",
     "output_type": "error",
     "traceback": [
      "\u001b[0;36m  Cell \u001b[0;32mIn[16], line 1\u001b[0;36m\u001b[0m\n\u001b[0;31m    OLLAMA_HOST=0.0.0.0 OLLAMA_ORIGINS=* ollama serve --openai\u001b[0m\n\u001b[0m                   ^\u001b[0m\n\u001b[0;31mSyntaxError\u001b[0m\u001b[0;31m:\u001b[0m invalid syntax\n"
     ]
    }
   ],
   "source": [
    "OLLAMA_HOST=0.0.0.0 OLLAMA_ORIGINS=* ollama serve --openai\n"
   ]
  },
  {
   "cell_type": "code",
   "execution_count": 2,
   "id": "4633e06b-c477-4058-aa0e-f622773cdc86",
   "metadata": {},
   "outputs": [
    {
     "data": {
      "application/vnd.jupyter.widget-view+json": {
       "model_id": "d6856daf082f41a9ad9dfb9b0cb14a84",
       "version_major": 2,
       "version_minor": 0
      },
      "text/plain": [
       "Output(layout=Layout(border_bottom='1px solid gray', border_left='1px solid gray', border_right='1px solid gra…"
      ]
     },
     "metadata": {},
     "output_type": "display_data"
    },
    {
     "data": {
      "application/vnd.jupyter.widget-view+json": {
       "model_id": "9dfd9e76d267421a94a231fe71f65b4c",
       "version_major": 2,
       "version_minor": 0
      },
      "text/plain": [
       "Textarea(value='', layout=Layout(height='60px', width='100%'), placeholder='Type your message here...')"
      ]
     },
     "metadata": {},
     "output_type": "display_data"
    },
    {
     "data": {
      "application/vnd.jupyter.widget-view+json": {
       "model_id": "7b0200989b454b7bbac5c5e493cbea0f",
       "version_major": 2,
       "version_minor": 0
      },
      "text/plain": [
       "Button(button_style='primary', description='Send', style=ButtonStyle())"
      ]
     },
     "metadata": {},
     "output_type": "display_data"
    }
   ],
   "source": [
    "import requests, ipywidgets as widgets\n",
    "from IPython.display import display\n",
    "\n",
    "BASE_URL = \"http://localhost:11434\"   # Ollama native API\n",
    "MODEL = \"llama3.1:latest\"             # your model\n",
    "\n",
    "# UI widgets\n",
    "chat_log = widgets.Output(layout={'border': '1px solid gray',\n",
    "                                  'height':'300px',\n",
    "                                  'overflow_y':'auto'})\n",
    "user_input = widgets.Textarea(\n",
    "    placeholder=\"Type your message here...\",\n",
    "    layout={'width':'100%','height':'60px'}\n",
    ")\n",
    "send_button = widgets.Button(description=\"Send\", button_style='primary')\n",
    "\n",
    "def send_message(_):\n",
    "    user_text = user_input.value.strip()\n",
    "    if not user_text:\n",
    "        return\n",
    "    user_input.value = \"\"  # clear box\n",
    "\n",
    "    # Show user text\n",
    "    with chat_log:\n",
    "        print(f\"You: {user_text}\")\n",
    "\n",
    "    try:\n",
    "        resp = requests.post(\n",
    "            f\"{BASE_URL}/api/chat\",\n",
    "            headers={\"Content-Type\": \"application/json\"},\n",
    "            json={\n",
    "                \"model\": MODEL,\n",
    "                \"messages\": [{\"role\": \"user\", \"content\": user_text}],\n",
    "                \"stream\": False\n",
    "            },\n",
    "            timeout=300\n",
    "        )\n",
    "        j = resp.json()\n",
    "        # Ollama /api/chat returns {\"message\":{\"role\":\"assistant\",\"content\":\"...\"}}\n",
    "        reply = j.get(\"message\", {}).get(\"content\") or j.get(\"response\") or \"(no reply)\"\n",
    "    except Exception as e:\n",
    "        reply = f\"Error: {e}\"\n",
    "\n",
    "    # Show bot reply\n",
    "    with chat_log:\n",
    "        print(f\"Bot: {reply}\\n\")\n",
    "\n",
    "send_button.on_click(send_message)\n",
    "\n",
    "display(chat_log, user_input, send_button)\n",
    "\n"
   ]
  },
  {
   "cell_type": "code",
   "execution_count": null,
   "id": "b098009e-d285-4c1b-8236-34b2116a30f4",
   "metadata": {},
   "outputs": [],
   "source": []
  }
 ],
 "metadata": {
  "kernelspec": {
   "display_name": "Python 3 (ipykernel)",
   "language": "python",
   "name": "python3"
  },
  "language_info": {
   "codemirror_mode": {
    "name": "ipython",
    "version": 3
   },
   "file_extension": ".py",
   "mimetype": "text/x-python",
   "name": "python",
   "nbconvert_exporter": "python",
   "pygments_lexer": "ipython3",
   "version": "3.11.5"
  }
 },
 "nbformat": 4,
 "nbformat_minor": 5
}
